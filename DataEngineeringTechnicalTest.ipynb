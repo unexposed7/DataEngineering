{
 "cells": [
  {
   "cell_type": "code",
   "execution_count": 1,
   "metadata": {},
   "outputs": [],
   "source": [
    "import numpy as np              # importing Data Analysis Libraries\n",
    "import pandas as pd\n",
    "import random\n",
    "from IPython.display import Image"
   ]
  },
  {
   "cell_type": "code",
   "execution_count": 4,
   "metadata": {},
   "outputs": [],
   "source": [
    "n = np.random.randint(0, 1000)  # Generating random values\n",
    "m = np.random.randint(0, 1000)\n",
    "k = np.random.randint(0, 1000)\n",
    "N = np.random.randint(0, 1000)"
   ]
  },
  {
   "cell_type": "code",
   "execution_count": 5,
   "metadata": {},
   "outputs": [
    {
     "name": "stdout",
     "output_type": "stream",
     "text": [
      "Values randomly generated, n= 950 m= 913 k= 22 N= 98\n"
     ]
    }
   ],
   "source": [
    "print(\"Values randomly generated, n=\",str(n),\"m=\",str(m),\"k=\",str(k),\"N=\",str(N))"
   ]
  },
  {
   "cell_type": "markdown",
   "metadata": {},
   "source": [
    "---"
   ]
  },
  {
   "cell_type": "markdown",
   "metadata": {},
   "source": [
    "## Initialization of the values and creating My-Data table\n",
    "### Selecting the size of the attributes and populating them.. for example Feature_A <span style=\"color:blue\"> [FA-1, ..FA-n] </span> is until  n=950   \n",
    "### for Attributes Features FB & FC ->   <span style=\"color:blue\"> FB-1,FB-2,..FB-m </span>until m and <span style=\"color:green\"> FC-1,FC-2,..FC-k</span> until k"
   ]
  },
  {
   "cell_type": "code",
   "execution_count": 18,
   "metadata": {},
   "outputs": [],
   "source": [
    "# Creating a list of Features_A for the Feature Name until n (until m for Feature B and k for Feature C)\n",
    "# then the Feature A value which is: FA-1,FA-2,...FA-n\n",
    "# then the Total for each Feature which is sum(N) for Feature A and C and count(ID) for Feature B\n",
    "# then the percentage of all values devided by Total\n",
    "# and then the normalization of percentage - explained below!\n",
    "# percentage rounded to the 3rd decimal\n",
    "# adding all of them in one Dataframe (Feature_FA)\n",
    "# and renaming the column names \n",
    "\n",
    "Feature_FA        = pd.DataFrame([\"Feature_A\" for id in range(1,n)])           \n",
    "FA_string         = pd.DataFrame([\"FA-\"+str(id) for id in range(1,n)])         \n",
    "TotalFA           = pd.DataFrame([random.randrange(1,1000) for i in range(n)]) \n",
    "percentageFA      = TotalFA/TotalFA.sum()                                   \n",
    "percentageFAR     = percentageFA.round(decimals=3)\n",
    "percentageFAnorm  = 1/((percentageFA.max()-percentageFA.min())*(percentageFA-percentageFA.max())+1)/len(percentageFA)\n",
    "percentageFAnormR = percentageFAnorm.round(decimals=3)                                                                     \n",
    "\n",
    "\n",
    "Feature_FA[\"FA_string\"]  = FA_string\n",
    "Feature_FA[\"TotalFA\"]    = TotalFA\n",
    "Feature_FA[\"Percentage\"] = percentageFAR\n",
    "Feature_FA.columns       ={\"Feature_Name\":\"Feature_Name\",\n",
    "                           \"Feature_Value\":\"Feature_Value\",\n",
    "                            \"Total\":\"Total\",\n",
    "                            \"Percentage\":\"Percentage\"}\n",
    "\n",
    "# same process follows for Feature B\n",
    "\n",
    "Feature_FB        = pd.DataFrame([\"Feature_B\" for id in range(1,m)])\n",
    "FB_string         = pd.DataFrame([\"FB-\"+str(id) for id in range(1,m)])\n",
    "TotalFB           = pd.DataFrame([random.randrange(1,1000) for i in range(m)])\n",
    "percentageFB      = TotalFB/TotalFB.sum()\n",
    "percentageFB      = percentageFB.round(decimals=3)\n",
    "\n",
    "\n",
    "Feature_FB[\"FB_string\"]  = FB_string\n",
    "Feature_FB[\"TotalFB\"]    = TotalFB\n",
    "Feature_FB[\"Percentage\"] = percentageFB\n",
    "Feature_FB.columns       = {\"Feature_Name\":\"Feature_Name\",\n",
    "                            \"Feature_Value\":\"Feature_Value\",\n",
    "                            \"Total\":\"Total\",\n",
    "                            \"Percentage\":\"Percentage\"}\n",
    "\n",
    "## same process followed for Feature C\n",
    "\n",
    "Feature_FC       = pd.DataFrame([\"Feature_C\" for id in range(1,k)])\n",
    "FC_string        = pd.DataFrame([\"FC-\"+str(id) for id in range(1,k)])\n",
    "TotalFC          = pd.DataFrame([random.randrange(1,1000) for i in range(k)])\n",
    "percentageFC     = TotalFC/TotalFC.sum()\n",
    "percentageFC     = percentageFC.round(decimals=3)\n",
    "\n",
    "Feature_FC[\"FC_string\"]  = FC_string\n",
    "Feature_FC[\"TotalFC\"]    = TotalFC\n",
    "Feature_FC[\"Percentage\"] = percentageFC\n",
    "Feature_FC.columns       = {\"Feature_Name\":\"Feature_Name\",\n",
    "                            \"Feature_Value\":\"Feature_Value\",\n",
    "                            \"Total\":\"Total\",\n",
    "                            \"Percentage\":\"Percentage\"}\n",
    "\n",
    "# Adding all 3 features to ResultTable using the append mathod\n",
    "\n",
    "ResultTable = pd.DataFrame(Feature_FA)            \n",
    "ResultTable = ResultTable.append(Feature_FB)\n",
    "ResultTable = ResultTable.append(Feature_FC)\n",
    "ResultTable = ResultTable.set_index([pd.Index(range(n+m+k-3))])"
   ]
  },
  {
   "cell_type": "code",
   "execution_count": 19,
   "metadata": {},
   "outputs": [],
   "source": [
    "# The sum(N) (for features A & C) and count(Id) (for feature B) to calculate the Total(FA,FB,FC) \n",
    "# was not calculated for each feature value but instead was added from randonly genarated numbers\n",
    "# this is the value Total(FA,FB,FC) --> TotalFC=pd.DataFrame([random.randrange(1,1000) for i in range(k)])\n",
    "# I guess there is a small ambiguity in the exercise, because:\n",
    "# If each Feature had an attribute N, then the sum(N), would have created 2 different values for the 2 different features, \n",
    "# since the sum of N would be the same and since Total=sum(N), (For A & C)"
   ]
  },
  {
   "cell_type": "code",
   "execution_count": 20,
   "metadata": {},
   "outputs": [],
   "source": [
    "Id_desc = \"An Id which is also the key to the table MyData\"\n",
    "Feature_desc = \"A feature.\"\n",
    "N_desc = \"An extensive quantity such as count, lenth, volume...\""
   ]
  },
  {
   "cell_type": "code",
   "execution_count": 21,
   "metadata": {},
   "outputs": [],
   "source": [
    "data = {\"Attribute\": [\"Id\", \"Feature_FA\", \"Feature_FB\", \"Feature_FC\", \"N\"], \"Type\": [\"Type(Id)\",str,str,str,int],\n",
    "        \"Domain\": [\"Type(Id)\",FA_string, FB_string, FC_string, \"N>=0\"],\n",
    "        \"Description\":[Id_desc,Feature_desc,Feature_desc,Feature_desc,N_desc]}\n",
    "MyDataTable = pd.DataFrame(data=data)"
   ]
  },
  {
   "cell_type": "code",
   "execution_count": 22,
   "metadata": {},
   "outputs": [
    {
     "data": {
      "text/html": [
       "<div>\n",
       "<style scoped>\n",
       "    .dataframe tbody tr th:only-of-type {\n",
       "        vertical-align: middle;\n",
       "    }\n",
       "\n",
       "    .dataframe tbody tr th {\n",
       "        vertical-align: top;\n",
       "    }\n",
       "\n",
       "    .dataframe thead th {\n",
       "        text-align: right;\n",
       "    }\n",
       "</style>\n",
       "<table border=\"1\" class=\"dataframe\">\n",
       "  <thead>\n",
       "    <tr style=\"text-align: right;\">\n",
       "      <th></th>\n",
       "      <th>Attribute</th>\n",
       "      <th>Type</th>\n",
       "      <th>Domain</th>\n",
       "      <th>Description</th>\n",
       "    </tr>\n",
       "  </thead>\n",
       "  <tbody>\n",
       "    <tr>\n",
       "      <td>0</td>\n",
       "      <td>Id</td>\n",
       "      <td>Type(Id)</td>\n",
       "      <td>Type(Id)</td>\n",
       "      <td>An Id which is also the key to the table MyData</td>\n",
       "    </tr>\n",
       "    <tr>\n",
       "      <td>1</td>\n",
       "      <td>Feature_FA</td>\n",
       "      <td>&lt;class 'str'&gt;</td>\n",
       "      <td>0\n",
       "0      FA-1\n",
       "1      FA-2\n",
       "2      FA-...</td>\n",
       "      <td>A feature.</td>\n",
       "    </tr>\n",
       "    <tr>\n",
       "      <td>2</td>\n",
       "      <td>Feature_FB</td>\n",
       "      <td>&lt;class 'str'&gt;</td>\n",
       "      <td>0\n",
       "0      FB-1\n",
       "1      FB-2\n",
       "2      FB-...</td>\n",
       "      <td>A feature.</td>\n",
       "    </tr>\n",
       "    <tr>\n",
       "      <td>3</td>\n",
       "      <td>Feature_FC</td>\n",
       "      <td>&lt;class 'str'&gt;</td>\n",
       "      <td>0\n",
       "0    FC-1\n",
       "1    FC-2\n",
       "2    FC-3\n",
       "3    F...</td>\n",
       "      <td>A feature.</td>\n",
       "    </tr>\n",
       "    <tr>\n",
       "      <td>4</td>\n",
       "      <td>N</td>\n",
       "      <td>&lt;class 'int'&gt;</td>\n",
       "      <td>N&gt;=0</td>\n",
       "      <td>An extensive quantity such as count, lenth, vo...</td>\n",
       "    </tr>\n",
       "  </tbody>\n",
       "</table>\n",
       "</div>"
      ],
      "text/plain": [
       "    Attribute           Type  \\\n",
       "0          Id       Type(Id)   \n",
       "1  Feature_FA  <class 'str'>   \n",
       "2  Feature_FB  <class 'str'>   \n",
       "3  Feature_FC  <class 'str'>   \n",
       "4           N  <class 'int'>   \n",
       "\n",
       "                                              Domain  \\\n",
       "0                                           Type(Id)   \n",
       "1            0\n",
       "0      FA-1\n",
       "1      FA-2\n",
       "2      FA-...   \n",
       "2            0\n",
       "0      FB-1\n",
       "1      FB-2\n",
       "2      FB-...   \n",
       "3          0\n",
       "0    FC-1\n",
       "1    FC-2\n",
       "2    FC-3\n",
       "3    F...   \n",
       "4                                               N>=0   \n",
       "\n",
       "                                         Description  \n",
       "0    An Id which is also the key to the table MyData  \n",
       "1                                         A feature.  \n",
       "2                                         A feature.  \n",
       "3                                         A feature.  \n",
       "4  An extensive quantity such as count, lenth, vo...  "
      ]
     },
     "execution_count": 22,
     "metadata": {},
     "output_type": "execute_result"
    }
   ],
   "source": [
    "MyDataTable # Preview of My-Data table,  same as the exercise "
   ]
  },
  {
   "cell_type": "markdown",
   "metadata": {},
   "source": [
    "### saving data to csv file \n",
    "#### the file can be found at git repo"
   ]
  },
  {
   "cell_type": "code",
   "execution_count": 23,
   "metadata": {},
   "outputs": [],
   "source": [
    "MyDataTable.to_csv(r'C:\\Users\\Admin\\Dropbox\\Machine_Learning\\ML2020\\DataEngineeringTest\\MyData.csv')"
   ]
  },
  {
   "cell_type": "markdown",
   "metadata": {},
   "source": [
    "---"
   ]
  },
  {
   "cell_type": "markdown",
   "metadata": {},
   "source": [
    "### Printing the Result Table"
   ]
  },
  {
   "cell_type": "code",
   "execution_count": 24,
   "metadata": {},
   "outputs": [
    {
     "data": {
      "text/html": [
       "<div>\n",
       "<style scoped>\n",
       "    .dataframe tbody tr th:only-of-type {\n",
       "        vertical-align: middle;\n",
       "    }\n",
       "\n",
       "    .dataframe tbody tr th {\n",
       "        vertical-align: top;\n",
       "    }\n",
       "\n",
       "    .dataframe thead th {\n",
       "        text-align: right;\n",
       "    }\n",
       "</style>\n",
       "<table border=\"1\" class=\"dataframe\">\n",
       "  <thead>\n",
       "    <tr style=\"text-align: right;\">\n",
       "      <th></th>\n",
       "      <th>Feature_Name</th>\n",
       "      <th>Feature_Value</th>\n",
       "      <th>Total</th>\n",
       "      <th>Percentage</th>\n",
       "    </tr>\n",
       "  </thead>\n",
       "  <tbody>\n",
       "    <tr>\n",
       "      <td>0</td>\n",
       "      <td>Feature_A</td>\n",
       "      <td>FA-1</td>\n",
       "      <td>673</td>\n",
       "      <td>0.001</td>\n",
       "    </tr>\n",
       "    <tr>\n",
       "      <td>1</td>\n",
       "      <td>Feature_A</td>\n",
       "      <td>FA-2</td>\n",
       "      <td>98</td>\n",
       "      <td>0.000</td>\n",
       "    </tr>\n",
       "    <tr>\n",
       "      <td>2</td>\n",
       "      <td>Feature_A</td>\n",
       "      <td>FA-3</td>\n",
       "      <td>940</td>\n",
       "      <td>0.002</td>\n",
       "    </tr>\n",
       "    <tr>\n",
       "      <td>3</td>\n",
       "      <td>Feature_A</td>\n",
       "      <td>FA-4</td>\n",
       "      <td>387</td>\n",
       "      <td>0.001</td>\n",
       "    </tr>\n",
       "    <tr>\n",
       "      <td>4</td>\n",
       "      <td>Feature_A</td>\n",
       "      <td>FA-5</td>\n",
       "      <td>607</td>\n",
       "      <td>0.001</td>\n",
       "    </tr>\n",
       "  </tbody>\n",
       "</table>\n",
       "</div>"
      ],
      "text/plain": [
       "  Feature_Name Feature_Value  Total  Percentage\n",
       "0    Feature_A          FA-1    673       0.001\n",
       "1    Feature_A          FA-2     98       0.000\n",
       "2    Feature_A          FA-3    940       0.002\n",
       "3    Feature_A          FA-4    387       0.001\n",
       "4    Feature_A          FA-5    607       0.001"
      ]
     },
     "execution_count": 24,
     "metadata": {},
     "output_type": "execute_result"
    }
   ],
   "source": [
    "ResultTable.head()"
   ]
  },
  {
   "cell_type": "code",
   "execution_count": 25,
   "metadata": {},
   "outputs": [
    {
     "data": {
      "text/html": [
       "<div>\n",
       "<style scoped>\n",
       "    .dataframe tbody tr th:only-of-type {\n",
       "        vertical-align: middle;\n",
       "    }\n",
       "\n",
       "    .dataframe tbody tr th {\n",
       "        vertical-align: top;\n",
       "    }\n",
       "\n",
       "    .dataframe thead th {\n",
       "        text-align: right;\n",
       "    }\n",
       "</style>\n",
       "<table border=\"1\" class=\"dataframe\">\n",
       "  <thead>\n",
       "    <tr style=\"text-align: right;\">\n",
       "      <th></th>\n",
       "      <th>Feature_Name</th>\n",
       "      <th>Feature_Value</th>\n",
       "      <th>Total</th>\n",
       "      <th>Percentage</th>\n",
       "    </tr>\n",
       "  </thead>\n",
       "  <tbody>\n",
       "    <tr>\n",
       "      <td>1877</td>\n",
       "      <td>Feature_C</td>\n",
       "      <td>FC-17</td>\n",
       "      <td>57</td>\n",
       "      <td>0.005</td>\n",
       "    </tr>\n",
       "    <tr>\n",
       "      <td>1878</td>\n",
       "      <td>Feature_C</td>\n",
       "      <td>FC-18</td>\n",
       "      <td>436</td>\n",
       "      <td>0.037</td>\n",
       "    </tr>\n",
       "    <tr>\n",
       "      <td>1879</td>\n",
       "      <td>Feature_C</td>\n",
       "      <td>FC-19</td>\n",
       "      <td>66</td>\n",
       "      <td>0.006</td>\n",
       "    </tr>\n",
       "    <tr>\n",
       "      <td>1880</td>\n",
       "      <td>Feature_C</td>\n",
       "      <td>FC-20</td>\n",
       "      <td>515</td>\n",
       "      <td>0.044</td>\n",
       "    </tr>\n",
       "    <tr>\n",
       "      <td>1881</td>\n",
       "      <td>Feature_C</td>\n",
       "      <td>FC-21</td>\n",
       "      <td>873</td>\n",
       "      <td>0.074</td>\n",
       "    </tr>\n",
       "  </tbody>\n",
       "</table>\n",
       "</div>"
      ],
      "text/plain": [
       "     Feature_Name Feature_Value  Total  Percentage\n",
       "1877    Feature_C         FC-17     57       0.005\n",
       "1878    Feature_C         FC-18    436       0.037\n",
       "1879    Feature_C         FC-19     66       0.006\n",
       "1880    Feature_C         FC-20    515       0.044\n",
       "1881    Feature_C         FC-21    873       0.074"
      ]
     },
     "execution_count": 25,
     "metadata": {},
     "output_type": "execute_result"
    }
   ],
   "source": [
    "ResultTable.tail()"
   ]
  },
  {
   "cell_type": "code",
   "execution_count": 31,
   "metadata": {},
   "outputs": [
    {
     "data": {
      "text/html": [
       "<div>\n",
       "<style scoped>\n",
       "    .dataframe tbody tr th:only-of-type {\n",
       "        vertical-align: middle;\n",
       "    }\n",
       "\n",
       "    .dataframe tbody tr th {\n",
       "        vertical-align: top;\n",
       "    }\n",
       "\n",
       "    .dataframe thead th {\n",
       "        text-align: right;\n",
       "    }\n",
       "</style>\n",
       "<table border=\"1\" class=\"dataframe\">\n",
       "  <thead>\n",
       "    <tr style=\"text-align: right;\">\n",
       "      <th></th>\n",
       "      <th>Feature_Name</th>\n",
       "      <th>Feature_Value</th>\n",
       "      <th>Total</th>\n",
       "      <th>Percentage</th>\n",
       "    </tr>\n",
       "  </thead>\n",
       "  <tbody>\n",
       "    <tr>\n",
       "      <td>1850</td>\n",
       "      <td>Feature_B</td>\n",
       "      <td>FB-902</td>\n",
       "      <td>511</td>\n",
       "      <td>0.001</td>\n",
       "    </tr>\n",
       "    <tr>\n",
       "      <td>1851</td>\n",
       "      <td>Feature_B</td>\n",
       "      <td>FB-903</td>\n",
       "      <td>40</td>\n",
       "      <td>0.000</td>\n",
       "    </tr>\n",
       "    <tr>\n",
       "      <td>1852</td>\n",
       "      <td>Feature_B</td>\n",
       "      <td>FB-904</td>\n",
       "      <td>828</td>\n",
       "      <td>0.002</td>\n",
       "    </tr>\n",
       "    <tr>\n",
       "      <td>1853</td>\n",
       "      <td>Feature_B</td>\n",
       "      <td>FB-905</td>\n",
       "      <td>823</td>\n",
       "      <td>0.002</td>\n",
       "    </tr>\n",
       "    <tr>\n",
       "      <td>1854</td>\n",
       "      <td>Feature_B</td>\n",
       "      <td>FB-906</td>\n",
       "      <td>880</td>\n",
       "      <td>0.002</td>\n",
       "    </tr>\n",
       "    <tr>\n",
       "      <td>1855</td>\n",
       "      <td>Feature_B</td>\n",
       "      <td>FB-907</td>\n",
       "      <td>249</td>\n",
       "      <td>0.001</td>\n",
       "    </tr>\n",
       "    <tr>\n",
       "      <td>1856</td>\n",
       "      <td>Feature_B</td>\n",
       "      <td>FB-908</td>\n",
       "      <td>716</td>\n",
       "      <td>0.002</td>\n",
       "    </tr>\n",
       "    <tr>\n",
       "      <td>1857</td>\n",
       "      <td>Feature_B</td>\n",
       "      <td>FB-909</td>\n",
       "      <td>299</td>\n",
       "      <td>0.001</td>\n",
       "    </tr>\n",
       "    <tr>\n",
       "      <td>1858</td>\n",
       "      <td>Feature_B</td>\n",
       "      <td>FB-910</td>\n",
       "      <td>43</td>\n",
       "      <td>0.000</td>\n",
       "    </tr>\n",
       "    <tr>\n",
       "      <td>1859</td>\n",
       "      <td>Feature_B</td>\n",
       "      <td>FB-911</td>\n",
       "      <td>554</td>\n",
       "      <td>0.001</td>\n",
       "    </tr>\n",
       "    <tr>\n",
       "      <td>1860</td>\n",
       "      <td>Feature_B</td>\n",
       "      <td>FB-912</td>\n",
       "      <td>489</td>\n",
       "      <td>0.001</td>\n",
       "    </tr>\n",
       "    <tr>\n",
       "      <td>1861</td>\n",
       "      <td>Feature_C</td>\n",
       "      <td>FC-1</td>\n",
       "      <td>370</td>\n",
       "      <td>0.031</td>\n",
       "    </tr>\n",
       "    <tr>\n",
       "      <td>1862</td>\n",
       "      <td>Feature_C</td>\n",
       "      <td>FC-2</td>\n",
       "      <td>869</td>\n",
       "      <td>0.074</td>\n",
       "    </tr>\n",
       "    <tr>\n",
       "      <td>1863</td>\n",
       "      <td>Feature_C</td>\n",
       "      <td>FC-3</td>\n",
       "      <td>515</td>\n",
       "      <td>0.044</td>\n",
       "    </tr>\n",
       "    <tr>\n",
       "      <td>1864</td>\n",
       "      <td>Feature_C</td>\n",
       "      <td>FC-4</td>\n",
       "      <td>968</td>\n",
       "      <td>0.082</td>\n",
       "    </tr>\n",
       "    <tr>\n",
       "      <td>1865</td>\n",
       "      <td>Feature_C</td>\n",
       "      <td>FC-5</td>\n",
       "      <td>817</td>\n",
       "      <td>0.070</td>\n",
       "    </tr>\n",
       "    <tr>\n",
       "      <td>1866</td>\n",
       "      <td>Feature_C</td>\n",
       "      <td>FC-6</td>\n",
       "      <td>198</td>\n",
       "      <td>0.017</td>\n",
       "    </tr>\n",
       "    <tr>\n",
       "      <td>1867</td>\n",
       "      <td>Feature_C</td>\n",
       "      <td>FC-7</td>\n",
       "      <td>611</td>\n",
       "      <td>0.052</td>\n",
       "    </tr>\n",
       "    <tr>\n",
       "      <td>1868</td>\n",
       "      <td>Feature_C</td>\n",
       "      <td>FC-8</td>\n",
       "      <td>334</td>\n",
       "      <td>0.028</td>\n",
       "    </tr>\n",
       "    <tr>\n",
       "      <td>1869</td>\n",
       "      <td>Feature_C</td>\n",
       "      <td>FC-9</td>\n",
       "      <td>561</td>\n",
       "      <td>0.048</td>\n",
       "    </tr>\n",
       "  </tbody>\n",
       "</table>\n",
       "</div>"
      ],
      "text/plain": [
       "     Feature_Name Feature_Value  Total  Percentage\n",
       "1850    Feature_B        FB-902    511       0.001\n",
       "1851    Feature_B        FB-903     40       0.000\n",
       "1852    Feature_B        FB-904    828       0.002\n",
       "1853    Feature_B        FB-905    823       0.002\n",
       "1854    Feature_B        FB-906    880       0.002\n",
       "1855    Feature_B        FB-907    249       0.001\n",
       "1856    Feature_B        FB-908    716       0.002\n",
       "1857    Feature_B        FB-909    299       0.001\n",
       "1858    Feature_B        FB-910     43       0.000\n",
       "1859    Feature_B        FB-911    554       0.001\n",
       "1860    Feature_B        FB-912    489       0.001\n",
       "1861    Feature_C          FC-1    370       0.031\n",
       "1862    Feature_C          FC-2    869       0.074\n",
       "1863    Feature_C          FC-3    515       0.044\n",
       "1864    Feature_C          FC-4    968       0.082\n",
       "1865    Feature_C          FC-5    817       0.070\n",
       "1866    Feature_C          FC-6    198       0.017\n",
       "1867    Feature_C          FC-7    611       0.052\n",
       "1868    Feature_C          FC-8    334       0.028\n",
       "1869    Feature_C          FC-9    561       0.048"
      ]
     },
     "execution_count": 31,
     "metadata": {},
     "output_type": "execute_result"
    }
   ],
   "source": [
    "ResultTable[1850:1870]"
   ]
  },
  {
   "cell_type": "code",
   "execution_count": 32,
   "metadata": {},
   "outputs": [],
   "source": [
    "#### To make sure that the sum of all percetages (for all features) is always equal to 1\n",
    "#### by deviding with the summary of all percentages, this is achieved\n",
    "\n",
    "#### Furthermore, the way to perform this is by feature scaling - data normalization\n",
    "#### with min-max scaling and rescaling the range of features to the range in [0, 1]\n",
    "\n",
    "#### Onother way to linearly rescale data values into a new range min' to max' is\n",
    "#### by using the following formula:\n",
    "#### normilized= (max'-min')/((max-min)*(value-max)+max'/ #number of values), \n",
    "#### where in our case, max' =1\n",
    "\n",
    "#### In order to present the different cases, and the rounding error \n",
    "#### all values were preserved (only for Feature A, for demostration purposes)"
   ]
  },
  {
   "cell_type": "code",
   "execution_count": 33,
   "metadata": {},
   "outputs": [
    {
     "name": "stdout",
     "output_type": "stream",
     "text": [
      "Sum of all percentages devided by sum: 0    1.0\n",
      "dtype: float64 \n",
      " Sum of all percentages rounded id 3rd decimal 0    0.995\n",
      "dtype: float64 \n",
      " Sum of all percentages normilized: 0    1.000002\n",
      "dtype: float64 \n",
      " Sum of all percentages rounded in 3rd decimal after normzalization 0    0.95\n",
      "dtype: float64\n"
     ]
    }
   ],
   "source": [
    "print(\"Sum of all percentages devided by sum:\",percentageFA.sum(),\"\\n\",\n",
    "      \"Sum of all percentages rounded id 3rd decimal\",percentageFAR.sum(),\"\\n\",\n",
    "      \"Sum of all percentages normilized:\",percentageFAnorm.sum(),\"\\n\",\n",
    "      \"Sum of all percentages rounded in 3rd decimal after normzalization\",percentageFAnormR.sum())"
   ]
  },
  {
   "cell_type": "code",
   "execution_count": 34,
   "metadata": {},
   "outputs": [],
   "source": [
    "####  By rounding in the 3rd decimal, we lose in accuracy\n",
    "####  This is a numeric decision problem on normalization and can be further discussed\n",
    "#### Some interesting information could be found under the following link\n",
    "#   https://docs.oracle.com/cd/E19957-01/806-3568/ncg_goldberg.html"
   ]
  },
  {
   "cell_type": "code",
   "execution_count": 35,
   "metadata": {},
   "outputs": [],
   "source": [
    "#### ANother was to perform feature scaling is by using reade libray modules\n",
    "#### importing the preprocessing module of the machine learning library skikit-learn\n",
    "#### as follows"
   ]
  },
  {
   "cell_type": "code",
   "execution_count": 36,
   "metadata": {},
   "outputs": [
    {
     "data": {
      "text/plain": [
       "StandardScaler(copy=True, with_mean=True, with_std=True)"
      ]
     },
     "execution_count": 36,
     "metadata": {},
     "output_type": "execute_result"
    }
   ],
   "source": [
    "from sklearn import preprocessing\n",
    "scaler = preprocessing.StandardScaler().fit(percentageFA)\n",
    "scaler"
   ]
  },
  {
   "cell_type": "code",
   "execution_count": 37,
   "metadata": {},
   "outputs": [
    {
     "data": {
      "text/plain": [
       "(0    1.0\n",
       " dtype: float64, 0    1.019\n",
       " dtype: float64, 0    1.0\n",
       " dtype: float64)"
      ]
     },
     "execution_count": 37,
     "metadata": {},
     "output_type": "execute_result"
    }
   ],
   "source": [
    "percentageFA.sum(), percentageFB.sum(), percentageFC.sum()"
   ]
  },
  {
   "cell_type": "markdown",
   "metadata": {},
   "source": [
    "---"
   ]
  },
  {
   "cell_type": "markdown",
   "metadata": {},
   "source": [
    "### Creating MyData table in SQL"
   ]
  },
  {
   "cell_type": "code",
   "execution_count": 38,
   "metadata": {},
   "outputs": [],
   "source": [
    "import sqlite3\n",
    "\n",
    "connection = sqlite3.connect(\"MyDataTable.db\")\n",
    "\n",
    "cursor = connection.cursor()\n",
    "\n",
    "sql_command =\"\"\"DROP TABLE IF EXISTS MyDataTable;\"\"\"\n",
    "cursor.execute(sql_command)\n",
    "\n",
    "sql_command =\"\"\"CREATE TABLE MyDataTable(\n",
    "    Id CHAR(8) PRIMARY KEY, \n",
    "    Feature_Name TEXT, \n",
    "    Feature_Value CHAR(8),\n",
    "    Total INTEGER, \n",
    "    N INTEGER,\n",
    "    Percentage FLOAT);\"\"\"\n",
    "\n",
    "cursor.execute(sql_command) \n",
    "\n",
    "\n",
    "sql_command = \"\"\"INSERT INTO MyDataTable(\n",
    "    Id, Feature_Name, Feature_Value, Total, N, Percentage) \n",
    "    VALUES(abs(random()), \"Feature_A\", \n",
    "    round(abs(random()/92233720368547758.07),0), \n",
    "    round(abs(random()/92233720368547758.07),0), \n",
    "    round(abs(random()/92233720368547758.07),0),abs(random()%1));\"\"\"\n",
    "\n",
    "# Using round(abs(random()/92233720368547758.07),0) to generate values between 1 and 100\n",
    "cursor.execute(sql_command) \n",
    "\n",
    "sql_command = \"\"\"INSERT INTO MyDataTable(\n",
    "    Id, Feature_Name, Feature_Value, Total, N, Percentage) \n",
    "    VALUES(abs(random()), \"Feature_B\", \n",
    "    round(abs(random()/92233720368547758.07),0),\n",
    "    round(abs(random()/92233720368547758.07),0),\n",
    "    round(abs(random()/92233720368547758.07),0),abs(random()%10));\"\"\"\n",
    "cursor.execute(sql_command)\n",
    "\n",
    "sql_command = \"\"\"INSERT INTO MyDataTable(\n",
    "    Id, Feature_Name, Feature_Value, Total, N, Percentage) \n",
    "    VALUES(abs(random()), \"Feature_C\", \n",
    "    round(abs(random()/92233720368547758.07),0),\n",
    "    round(abs(random()/92233720368547758.07),0),\n",
    "    round(abs(random()/92233720368547758.07),0),abs(random()) %1);\"\"\"\n",
    "cursor.execute(sql_command)\n",
    "\n",
    "# sql_command =\"\"\"\n",
    "# SET number =1\n",
    "# While (@number <= 20)\n",
    "# Begin\n",
    "#     INSERT into MyDataTable (\n",
    "#     Id, Feature_Name, Feature_Value, Total, N, Percentage) VALUES(\n",
    "#     abs(random()), \"Feature_B\", round(abs(random()/92233720368547758.07),0), round(abs(random()/92233720368547758.07),0), round(abs(random()/92233720368547758.07),0),abs(random()%1))\n",
    "#     SET @number = number +1\n",
    "# End;\"\"\"\n",
    "\n",
    "# cursor.execute(sql_command)\n",
    "\n",
    "\n",
    "connection.commit()\n",
    "\n",
    "connection.close()"
   ]
  },
  {
   "cell_type": "code",
   "execution_count": 43,
   "metadata": {},
   "outputs": [],
   "source": [
    "from sqlalchemy import create_engine\n",
    "from contextlib import closing\n",
    "\n",
    "connection = sqlite3.connect(\"resultTable.db\")\n",
    "\n",
    "ResultTable.to_sql(\"resultTable\", connection, if_exists='replace', index = False)\n",
    "\n",
    "\n",
    "connection.commit()\n",
    "\n",
    "connection.close()"
   ]
  },
  {
   "cell_type": "code",
   "execution_count": 115,
   "metadata": {},
   "outputs": [
    {
     "data": {
      "image/png": "[encoded data removed]",
      "text/plain": [
       "<IPython.core.display.Image object>"
      ]
     },
     "execution_count": 115,
     "metadata": {},
     "output_type": "execute_result"
    }
   ],
   "source": [
    "Image(\"resultTable.png\")"
   ]
  },
  {
   "cell_type": "markdown",
   "metadata": {},
   "source": [
    "---"
   ]
  }
 ],
 "metadata": {
  "kernelspec": {
   "display_name": "Python 3",
   "language": "python",
   "name": "python3"
  },
  "language_info": {
   "codemirror_mode": {
    "name": "ipython",
    "version": 3
   },
   "file_extension": ".py",
   "mimetype": "text/x-python",
   "name": "python",
   "nbconvert_exporter": "python",
   "pygments_lexer": "ipython3",
   "version": "3.7.4"
  }
 },
 "nbformat": 4,
 "nbformat_minor": 2
}
